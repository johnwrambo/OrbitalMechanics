{
 "cells": [
  {
   "cell_type": "code",
   "id": "initial_id",
   "metadata": {
    "collapsed": true
   },
   "source": [
    "import numpy as np\n",
    "import matplotlib.pyplot as plt\n",
    "from sympy.abc import theta\n",
    "from sympy.plotting import plot\n",
    "import sympy as sp\n",
    "from sympy import init_printing\n",
    "from IPython.display import display, Math\n",
    "import sympy as sp\n",
    "sp.init_printing()  # Ensures LaTe\n",
    "\n",
    "init_printing(use_latex=True)\n",
    "t_val = np.linspace(0, 10, 100)\n",
    "\n",
    "# position 2D -> x(t), change in position with respect to time\n",
    "\n",
    "#velocity\n"
   ],
   "outputs": [],
   "execution_count": null
  },
  {
   "metadata": {},
   "cell_type": "markdown",
   "source": [
    "position 2D -> x(t), change in position with respect to time\n",
    "velocity: the change is posistion with respect to time\n",
    "dx/dt\n",
    "accerleration: the change in velocity with respect to time\n",
    "dx^2/dt^2\n"
   ],
   "id": "8f5d0dafdad905ce"
  },
  {
   "metadata": {},
   "cell_type": "markdown",
   "source": "",
   "id": "e6395a302fa7fc18"
  },
  {
   "metadata": {},
   "cell_type": "code",
   "source": [
    "t = sp.symbols('t')\n",
    "\n",
    "x = t**3 -6*t**2-15*t + 40\n",
    "plot(x,(t,0,10),title = \"Position\")\n",
    "x_prime = sp.diff(x, t)\n",
    "sol = sp.solve(x_prime, t)\n",
    "print(sol)\n",
    "print(\"First Derivative:\")\n",
    "display(Math(r'\\textcolor{white}{' + sp.latex(x_prime) + '}'))\n",
    "plot(x_prime,(t,0,10),title = \"Velocity\")\n",
    "displacement = sp.integrate(x_prime, (t, 0, 5))\n",
    "print(f\"displacement: {displacement}\")\n",
    "x_prime2 = sp.diff(x, t,2)\n",
    "print(\"Second Derivative:\")\n",
    "display(Math(r'\\textcolor{white}{' + sp.latex(x_prime2) + '}'))\n",
    "plot(x_prime2,(t,0,10),title = \"Acceleration\")\n",
    "\n",
    "\n",
    "\n"
   ],
   "id": "a6203d47d38fc78",
   "outputs": [],
   "execution_count": null
  },
  {
   "metadata": {},
   "cell_type": "code",
   "source": [
    "v = sp.lambdify(t, x_prime2,\"numpy\")\n",
    "# plt.plot(t,v)"
   ],
   "id": "21c9bd6abf15e647",
   "outputs": [],
   "execution_count": null
  },
  {
   "metadata": {},
   "cell_type": "code",
   "source": [
    "v = sp.lambdify(t, x_prime)\n",
    "plt.plot(t_val,v(t_val))"
   ],
   "id": "986773dff9296734",
   "outputs": [],
   "execution_count": null
  },
  {
   "metadata": {},
   "cell_type": "code",
   "source": [
    "from vpython import sphere, vector, rate\n",
    "\n",
    "# Create central body (e.g., the Sun)\n",
    "sun = sphere(pos=vector(0,0,0), radius=1, color=vector(1,1,0))\n",
    "\n",
    "# Create orbiting planet\n",
    "planet = sphere(pos=vector(5,0,0), radius=0.3, color=vector(0,0,1), make_trail=True)\n",
    "\n",
    "# Orbital motion parameters\n",
    "G = 1  # Gravitational constant (simplified)\n",
    "M = 10  # Mass of the Sun\n",
    "r = vector(5, 0, 0)  # Initial position\n",
    "v = vector(0, 2, 0)  # Initial velocity\n",
    "dt = 0.01  # Time step\n",
    "\n",
    "# Animation loop\n",
    "while True:\n",
    "    rate(100)  # Control animation speed\n",
    "\n",
    "    # Compute gravitational force\n",
    "    F = -G * M * r.norm() / r.mag2\n",
    "\n",
    "    # Update velocity and position\n",
    "    v = v + F * dt\n",
    "    r = r + v * dt\n",
    "    planet.pos = r\n"
   ],
   "id": "f8147256c01a71b7",
   "outputs": [],
   "execution_count": null
  },
  {
   "metadata": {},
   "cell_type": "code",
   "source": [
    "def circle_plot(r:int):\n",
    "    x = []\n",
    "    y = []\n",
    "    theta_list = np.linspace(0,2*np.pi, 100)\n",
    "    \n",
    "    for theta in enumerate(theta_list):\n",
    "        x.append(r * np.cos(theta))\n",
    "        y.append(r * np.sin(theta))\n",
    "    plt.plot(x,y)        \n",
    "    "
   ],
   "id": "2ae0c743dd9fdf1f",
   "outputs": [],
   "execution_count": null
  },
  {
   "metadata": {
    "ExecuteTime": {
     "end_time": "2025-02-21T20:25:32.146184Z",
     "start_time": "2025-02-21T20:25:30.234107Z"
    }
   },
   "cell_type": "code",
   "source": [
    "\n",
    "    \n",
    "\n",
    "dt =.1\n",
    "# sun_mass = float(1.989E30)\n",
    "earth_radius = 6371E3\n",
    "altitude = 370000\n",
    "orbital_alt = altitude + earth_radius\n",
    "earth_mass = float(5.972E24)\n",
    "r = float(42164)\n",
    "x = orbital_alt\n",
    "y = 0\n",
    "z = 0\n",
    "G = float(6.67E-11)\n",
    "satellite_pos = np.array([x, y, z])\n",
    "satellite_velocity = 7778.496 # m/s\n",
    "print(type(G))\n",
    "gravity_unit_vec = np.array([-1, y/r, z/r])\n",
    "satellite_velocity_vec = np.array([0, satellite_velocity, 0])\n",
    "a = ((G*earth_mass)/orbital_alt**2) * gravity_unit_vec\n",
    "# t = np.arange(0,100000,5)\n",
    "x_pos_list = []\n",
    "y_pos_list = []\n",
    "print(f\"POS: {satellite_pos}\")\n",
    "for _ in range(100000):\n",
    "    # print(f\"Gravity Vec: {gravity_unit_vec}\")\n",
    "    # print(f\"Acceleration: {a}\")\n",
    "    a = ((G*earth_mass)/np.linalg.norm(satellite_pos)**2) * gravity_unit_vec\n",
    "    # check = input(\"enter\")\n",
    "    # if check == \"s\":\n",
    "    #     break\n",
    "    satellite_velocity_vec = satellite_velocity_vec + a*dt\n",
    "    # print(f\"Velocity: {v}\")\n",
    "    satellite_pos += satellite_velocity_vec*dt\n",
    "    # print(f\"POS: {satellite_pos}\")\n",
    "    gravity_unit_vec = (np.array([0,0,0])-satellite_pos) / (np.linalg.norm(satellite_pos - np.array([0,0,0])))\n",
    "    # print(f\"new gravity Vec: {gravity_unit_vec}\")\n",
    "    # print(f\"Gravity mag: {np.linalg.norm(gravity_unit_vec)}\")\n",
    "    x_pos_list.append(satellite_pos[0])\n",
    "    y_pos_list.append(satellite_pos[1])\n",
    "    \n",
    "\n",
    "# Create figure and axis\n",
    "fig, ax = plt.subplots()\n",
    "\n",
    "# Plot orbit path\n",
    "ax.plot(x_pos_list, y_pos_list, label=\"Path\")\n",
    "ax.plot(x_pos_list[-1], y_pos_list[-1], label=\"Space Craft\",marker=\"o\", markersize=2,color=\"red\")\n",
    "# Plot gravity vector\n",
    "gravity_unit_vec = gravity_unit_vec*1000000\n",
    "ax.plot([x_pos_list[-1], (x_pos_list[-1]+gravity_unit_vec[0])], [y_pos_list[-1],(y_pos_list[-1]+ gravity_unit_vec[1])], label=\"Gravity\", marker='.')  # Scale for visibility\n",
    "\n",
    "\n",
    "# Plot origin (Earth center)\n",
    "ax.plot(0, 0, label=\"Origin\", marker=\"o\", markersize=6, color=\"blue\")\n",
    "\n",
    "# Add a circle for Earth\n",
    "earth_circle = plt.Circle((0, 0), earth_radius, color='b', fill=False, linewidth=2)\n",
    "ax.add_patch(earth_circle)  # Add circle to the axes\n",
    "\n",
    "# Formatting\n",
    "scale = 1e7\n",
    "ax.set_xlim(-scale, scale)\n",
    "ax.set_ylim(-scale, scale)\n",
    "ax.set_aspect('equal')  # Ensure 1:1 aspect ratio\n",
    "plt.grid()\n",
    "plt.legend()\n",
    "plt.title('Orbit')\n",
    "plt.xlabel('x')\n",
    "plt.ylabel('y')\n",
    "\n",
    "plt.show()"
   ],
   "id": "850ef922f819ddfa",
   "outputs": [
    {
     "name": "stdout",
     "output_type": "stream",
     "text": [
      "<class 'float'>\n",
      "POS: [6741000.       0.       0.]\n"
     ]
    },
    {
     "data": {
      "text/plain": [
       "<Figure size 640x480 with 1 Axes>"
      ],
      "image/png": "[encoded data removed]"
     },
     "metadata": {},
     "output_type": "display_data"
    }
   ],
   "execution_count": 433
  },
  {
   "metadata": {
    "ExecuteTime": {
     "end_time": "2025-02-21T20:16:21.133678Z",
     "start_time": "2025-02-21T20:16:21.121858Z"
    }
   },
   "cell_type": "code",
   "source": [
    "print(gravity_unit_vec)\n",
    "print(x_pos_list[-1], y_pos_list[-1])\n",
    "print([x_pos_list[-1], (x_pos_list[-1]+gravity_unit_vec[0])], [y_pos_list[-1],(y_pos_list[-1]+ gravity_unit_vec[1])])"
   ],
   "id": "37153707eb43841f",
   "outputs": [
    {
     "name": "stdout",
     "output_type": "stream",
     "text": [
      "[-6838.22026919  7296.48843966     0.        ]\n",
      "4653603.509292997 -4965468.041635622\n",
      "[np.float64(4653603.509292997), np.float64(4646765.28902381)] [np.float64(-4965468.041635622), np.float64(-4958171.553195964)]\n"
     ]
    }
   ],
   "execution_count": 410
  },
  {
   "metadata": {
    "ExecuteTime": {
     "end_time": "2025-02-21T21:40:13.614590Z",
     "start_time": "2025-02-21T21:40:09.324401Z"
    }
   },
   "cell_type": "code",
   "source": [
    "import numpy as np\n",
    "import matplotlib.pyplot as plt\n",
    "import matplotlib.image as mpimg\n",
    "import matplotlib\n",
    "matplotlib.use('TkAgg')  # Use TkAgg instead of InterAgg\n",
    "from datetime import datetime\n",
    "import time\n",
    "\n",
    "\n",
    "def log_time(func):\n",
    "    def wrapper():\n",
    "        current_date_and_time = datetime.now()\n",
    "        start = time.time()\n",
    "        steps = func()\n",
    "        end = time.time()\n",
    "        total_time = end - start\n",
    "        with open(\"log.txt\", \"a\") as file:  # \"w\" mode creates or overwrites the file\n",
    "            file.write(\n",
    "                f\"Ran code at {current_date_and_time}, with {steps} steps, and a total run time: {total_time}...\\n\")\n",
    "        print(f\"Total run time: {total_time}...\")\n",
    "\n",
    "    return wrapper\n",
    "\n",
    "\n",
    "@log_time\n",
    "def main():\n",
    "    inspace = False\n",
    "\n",
    "    earth_radius = 6371E3\n",
    "    if inspace:\n",
    "        altitude = 370000\n",
    "        orbital_alt = altitude + earth_radius\n",
    "        x = orbital_alt\n",
    "        y = 0\n",
    "        z = 0\n",
    "        satellite_pos = np.array([x, y, z])\n",
    "        satellite_velocity = 7778.496  # m/s\n",
    "        satellite_velocity_vec = np.array([0, satellite_velocity, 0])\n",
    "    else:\n",
    "        print(\"Launch\")\n",
    "        angle = np.radians(15)\n",
    "        altitude = 370000\n",
    "        # orbital_alt = altitude + earth_radius\n",
    "        x = earth_radius\n",
    "        y = 0\n",
    "        z = 0\n",
    "        satellite_pos = np.array([x, y, z])\n",
    "        satellite_velocity = 7778.496  # m/s\n",
    "        satellite_velocity_vec = np.array([satellite_velocity*np.cos(angle), satellite_velocity*np.sin(angle), 0])\n",
    "\n",
    "    steps = 10000\n",
    "    dt = .1\n",
    "    # sun_mass = float(1.989E30)\n",
    "\n",
    "    earth_mass = float(5.972E24)\n",
    "    G = float(6.67E-11)\n",
    "    gravity_unit_vec = np.array([-1, 0, 0])\n",
    "\n",
    "\n",
    "\n",
    "    # t = np.arange(0,100000,5)\n",
    "    x_pos_list = []\n",
    "    y_pos_list = []\n",
    "\n",
    "    for _ in range(steps):\n",
    "\n",
    "\n",
    "        a = ((G * earth_mass) / np.linalg.norm(satellite_pos) ** 2) * gravity_unit_vec\n",
    "\n",
    "        satellite_velocity_vec = satellite_velocity_vec + a * dt\n",
    "\n",
    "        satellite_pos += satellite_velocity_vec * dt\n",
    "\n",
    "        gravity_unit_vec = (np.array([0, 0, 0]) - satellite_pos) / (np.linalg.norm(satellite_pos - np.array([0, 0, 0])))\n",
    "\n",
    "        x_pos_list.append(satellite_pos[0])\n",
    "        y_pos_list.append(satellite_pos[1])\n",
    "\n",
    "    # Create figure and axis\n",
    "    fig, ax = plt.subplots()\n",
    "    fig.patch.set_facecolor('black')\n",
    "    ax.set_facecolor('black')\n",
    "\n",
    "    # Plot orbit path\n",
    "    ax.plot(x_pos_list, y_pos_list, label=\"Path\")\n",
    "    ax.plot(x_pos_list[-1], y_pos_list[-1], label=\"Space Craft\", marker=\"o\", markersize=2, color=\"red\")\n",
    "    # Plot gravity vector\n",
    "    gravity_unit_vec = gravity_unit_vec * 1000000\n",
    "    # ax.plot([x_pos_list[-1], (x_pos_list[-1] + gravity_unit_vec[0])],\n",
    "    #         [y_pos_list[-1], (y_pos_list[-1] + gravity_unit_vec[1])], label=\"Gravity\",\n",
    "    #         marker='.')  # Scale for visibility\n",
    "\n",
    "    # Plot origin (Earth center)\n",
    "    # Add a circle for Earth\n",
    "    earth_circle = plt.Circle((0, 0), earth_radius, color='b', fill=True)\n",
    "    ax.add_patch(earth_circle)  # Add circle to the axes\n",
    "    earth_img = mpimg.imread(\"earth.png\")\n",
    "    ax.imshow(earth_img, extent=[-earth_radius, earth_radius, -earth_radius, earth_radius])\n",
    "    # ax.plot(0, 0, label=\"Origin\", marker=\"o\", markersize=6, color=\"blue\")\n",
    "\n",
    "\n",
    "\n",
    "    # Formatting\n",
    "    scale = 1e7\n",
    "    ax.set_xlim(-scale, scale)\n",
    "    ax.set_ylim(-scale, scale)\n",
    "    ax.set_aspect('equal')  # Ensure 1:1 aspect ratio\n",
    "    plt.grid(False)\n",
    "    plt.legend()\n",
    "    plt.title('Orbit')\n",
    "    plt.xlabel('x')\n",
    "    plt.ylabel('y')\n",
    "    plt.show()\n",
    "    return steps\n",
    "\n",
    "\n",
    "if __name__ == '__main__':\n",
    "    main()\n",
    "\n"
   ],
   "id": "4cabc24a61c6e4fe",
   "outputs": [
    {
     "name": "stdout",
     "output_type": "stream",
     "text": [
      "Launch\n",
      "Total run time: 1.5174262523651123...\n"
     ]
    }
   ],
   "execution_count": 434
  },
  {
   "metadata": {
    "ExecuteTime": {
     "end_time": "2025-02-21T21:45:53.210663Z",
     "start_time": "2025-02-21T21:45:53.202985Z"
    }
   },
   "cell_type": "code",
   "source": [
    "ground = satellite_pos/np.linalg.norm(satellite_pos)*earth_radius\n",
    "print(ground)\n",
    "print(satellite_pos)\n",
    "print(np.linalg.norm(satellite_pos-ground))\n",
    "\n",
    "\n",
    "\n",
    "# theta_list = np.linspace(0, 2*np.pi, 100)\n",
    "# print(theta_list)"
   ],
   "id": "92d115b37bca47c8",
   "outputs": [
    {
     "name": "stdout",
     "output_type": "stream",
     "text": [
      "[ -297442.57638536 -6364052.86855422        0.        ]\n",
      "[ -322626.72049829 -6902890.40328672        0.        ]\n",
      "539425.7409053604\n"
     ]
    }
   ],
   "execution_count": 444
  }
 ],
 "metadata": {
  "kernelspec": {
   "display_name": "Python 3",
   "language": "python",
   "name": "python3"
  },
  "language_info": {
   "codemirror_mode": {
    "name": "ipython",
    "version": 2
   },
   "file_extension": ".py",
   "mimetype": "text/x-python",
   "name": "python",
   "nbconvert_exporter": "python",
   "pygments_lexer": "ipython2",
   "version": "2.7.6"
  }
 },
 "nbformat": 4,
 "nbformat_minor": 5
}
